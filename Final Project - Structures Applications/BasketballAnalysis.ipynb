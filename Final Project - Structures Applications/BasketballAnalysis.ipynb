{
 "cells": [
  {
   "cell_type": "code",
   "execution_count": null,
   "metadata": {},
   "outputs": [],
   "source": [
    "#imports(if needed)"
   ]
  },
  {
   "cell_type": "markdown",
   "metadata": {},
   "source": [
    "Main Question: Which Games did the Cougar Men's Basketball Team Perform the best and which games did they perform the worst based on the point difference (points scored - points allowed to score)? \n",
    "For this project we will compare using a Binary Search tree and a ____  to find a specific game as well as the max and min score difference."
   ]
  },
  {
   "cell_type": "markdown",
   "metadata": {},
   "source": [
    "The Data:\n",
    " Data comes from a .csv file sourced from https://www.sports-reference.com/cbb/schools/washington-state/men/2024-gamelogs-advanced.html. I loaded it into excel and cleaned it dropping all of the stats collected for each game except the scores, date, school played, and location of the game. "
   ]
  },
  {
   "cell_type": "markdown",
   "metadata": {},
   "source": [
    "Binary Search Tree (BST):\n",
    "Below is the code for the binary search tree. Essentially we start with a data point as our \"root\" or starting point. Then when inserting data we insert points \"under\" the node as a \"child\" to the left or right based on whether a specified value is greater than or less than the roots specified value. Because a node can only have two children if a node has 2 children already we just move \"down\" a node and insert there instead. This means that a binary search tree will gain height as we add nodes. \n",
    "\n",
    "Important notes, because of the left and right rules the maximum and minimum values will always be the left and rightmost nodes of the tree meaning the time spent to find the minimum and maximum values is directly related to the vertical height of our tree.\n",
    "\n",
    "Searching for nodes is different however because we have to individually check the value of each node assisted by the fact that we can figure out where to search more efficenetly based on whether the value of the current examined node is greater than or less than our searched for value if that is the information we construct our tree around, otherwise it is random as wee search the tree whether we find it or not."
   ]
  },
  {
   "cell_type": "code",
   "execution_count": null,
   "metadata": {},
   "outputs": [],
   "source": [
    "#Binary Search Tree\n",
    "class Node: #this the node structure that will hold our individual data points from each game. We will read games into nodes from the csv file later.\n",
    "    def __init__(self, game_number, date_played, location, WorL, team_score, opponent_score):\n",
    "        self.game_number = game_number\n",
    "        self.date_played = date_played\n",
    "        self.location = location\n",
    "        self.WorL = WorL\n",
    "        self.team_score = team_score\n",
    "        self.opponent_score = opponent_score\n",
    "        self.score_difference = team_score - opponent_score\n",
    "        self.left = None\n",
    "        self.right = None\n",
    "        \n",
    "class BST:\n",
    "    def __init__(self):\n",
    "        self.root = None\n",
    "    \n",
    "    def insert(self, node):\n",
    "        \"This function inserts a node using the _insert helper function.\"\n",
    "        if self.root is None: #if there is no root then create one.\n",
    "            self.root = node\n",
    "        else: #if there is a root use the helper function to insert the node to the right place.\n",
    "            self._insert(self.root, node)\n",
    "            \n",
    "    def _insert(self, current_node, new_node):\n",
    "        \"\"\"This helper function takes a current node and a node to be placed. It then checks the values of the nodes to decide whether the new node\n",
    "        should be placed to the left or right of the current node based on whether it is smaller or larger than the current node.\"\"\"\n",
    "        if new_node.score_difference < current_node.score_difference:\n",
    "            if current_node.left is None: #does the node have a child to the left?\n",
    "                current_node.left = new_node #no: Insert to the left\n",
    "            else:\n",
    "                self._insert(current_node.left, new_node) #yes: then check again with the left child as the current node.\n",
    "        else:\n",
    "            if current_node.right is None: #does the node have a child to the right?\n",
    "                current_node.right = new_node #no\n",
    "            else:\n",
    "                self._insert(current_node.right, new_node) #yes\n",
    "    \n",
    "    def height(self):\n",
    "        \"\"\"This function returns the height of a the BST using a th _height helper function.\n",
    "        @return the height of the BST.\"\"\"\n",
    "        return self._height(self.root) #call helper function with the root node as the starting node.\n",
    "\n",
    "    def _height(self, starting_node):\n",
    "        \"\"\"This function takes a starting and follows the left and right child nodes down to find the distance from the starting node to the furthest node.\n",
    "        @return the distance between the starting node and the furthest child node.\"\"\"\n",
    "        if starting_node is None: #no starting node\n",
    "            return -1\n",
    "        left_height = self._height(starting_node.left) #check height going to left\n",
    "        right_height = self._height(starting_node.right) #check height going to right\n",
    "        return 1 + max(left_height, right_height) #return which ever heeght is greater, left or right + 1 to account for the currrent node.\n",
    "            \n"
   ]
  }
 ],
 "metadata": {
  "kernelspec": {
   "display_name": "Python 3",
   "language": "python",
   "name": "python3"
  },
  "language_info": {
   "name": "python",
   "version": "3.11.7"
  }
 },
 "nbformat": 4,
 "nbformat_minor": 2
}
