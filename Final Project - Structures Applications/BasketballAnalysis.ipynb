{
 "cells": [
  {
   "cell_type": "code",
   "execution_count": null,
   "metadata": {},
   "outputs": [],
   "source": [
    "import pandas as pd\n",
    "import numpy as np"
   ]
  },
  {
   "cell_type": "markdown",
   "metadata": {},
   "source": [
    "Main Question: Which Games did the Cougar Men's Basketball Team Perform the best and which games did they perform the worst based on the point difference (points scored - points allowed to score)? \n",
    "For this project we will use and compare a Binary Search tree and a "
   ]
  },
  {
   "cell_type": "markdown",
   "metadata": {},
   "source": [
    "The Data:\n",
    " Data comes from a .csv file sourced from https://www.sports-reference.com/cbb/schools/washington-state/men/2024-gamelogs-advanced.html. I loaded it into excel and cleaned it dropping all of the stats collected for each game except the scores, date, school played, and location of the game. "
   ]
  },
  {
   "cell_type": "code",
   "execution_count": null,
   "metadata": {},
   "outputs": [],
   "source": [
    "#Our data set is a .csv file, so we know each item is separated by a comma.\n",
    "file = open('MensBasketBallStats.csv', 'r') #open the csv file."
   ]
  },
  {
   "cell_type": "code",
   "execution_count": null,
   "metadata": {},
   "outputs": [],
   "source": [
    "#Binary Search Tree\n",
    "class Node:\n",
    "    def __init__(self, game_number, date_played, location, WorL, team_score, opponent_score):\n",
    "        self.game_number = game_number\n",
    "        self.date_played = date_played\n",
    "        self.location = location\n",
    "        self.WorL = WorL\n",
    "        self.team_score = team_score\n",
    "        self.opponent_score = opponent_score\n",
    "        self.score_difference = team_score - opponent_score\n",
    "        self.left = None\n",
    "        self.right = None\n",
    "        \n",
    "class BST:\n",
    "    def __init__(self):\n",
    "        self.root = None\n",
    "    \n",
    "    def insert(self, node):\n",
    "        if self.root is None:\n",
    "            self.root = node\n",
    "        else:\n",
    "            self.iinseert(self.root, node)\n",
    "            \n",
    "    def insert(self, current_node, new_node):\n",
    "        if new_node.score_differencee < current_node.score_difference:\n",
    "            if current_node.left is None:\n",
    "                current_node.left = new_node\n",
    "            else:\n",
    "                self.insert(current_node.left, new_node)\n",
    "        else:\n",
    "            if current_node.right is None:\n",
    "                current_node.right = new_node\n",
    "            else:\n",
    "                self.insert(current_node.right, new_node)\n",
    "            \n",
    "        \n",
    "        "
   ]
  }
 ],
 "metadata": {
  "kernelspec": {
   "display_name": "Python 3",
   "language": "python",
   "name": "python3"
  },
  "language_info": {
   "name": "python",
   "version": "3.11.7"
  }
 },
 "nbformat": 4,
 "nbformat_minor": 2
}
