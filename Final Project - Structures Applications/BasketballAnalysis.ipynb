{
 "cells": [
  {
   "cell_type": "code",
   "execution_count": null,
   "metadata": {},
   "outputs": [],
   "source": [
    "#imports(if needed)"
   ]
  },
  {
   "cell_type": "markdown",
   "metadata": {},
   "source": [
    "Main Question: Which Games did the Cougar Men's Basketball Team Perform the best and which games did they perform the worst based on the point difference (points scored - points allowed to score)? \n",
    "For this project we will compare using a Binary Search tree and a heap  to find a specific game as well as the max and min score difference. I also want to sort and return all of the games based on the score difference."
   ]
  },
  {
   "cell_type": "markdown",
   "metadata": {},
   "source": [
    "The Data:\n",
    " Data comes from a .csv file sourced from https://www.sports-reference.com/cbb/schools/washington-state/men/2024-gamelogs-advanced.html. I loaded it into Microsoft Excel and cleaned it dropping all of the stats collected for each game except the scores, date, school played, and location of the game. There were no missing or null values as the season has now ended and all of the data from each game was present. A few of the column names were not named in a way that would allow for easy access so I had to rename the WorL column as well as the dates. Additiionally, the location of the games is denoted using symbols. Previously it was left blank for a home game, had an @ symbol for an away game and an n for neutral venues. I decided to change thee symbols to capital letters and add H for home games instead of having a blank value."
   ]
  },
  {
   "cell_type": "markdown",
   "metadata": {},
   "source": [
    " Below is the code for our nodes that will hold the data for each game. The attributes stored are:\n",
    " game_number: The id for the game assigned cumulativly (1 is the first game played...)\n",
    " date_played: The date the game was played\n",
    " location: The location where the game was played\n",
    " opponent: Which team we played\n",
    " WorL: Whether the game was a Win or a Loss\n",
    " team_score: The score of the cougars at the end of the game\n",
    " opponent_score: The score of the opposing team at the end of the game\n",
    " score_difference: The difference in points scoreed betweeen the cougars and the opposing team calculated by team_score - opponent_score\n",
    " The other attributes are used for the data structures."
   ]
  },
  {
   "cell_type": "code",
   "execution_count": null,
   "metadata": {},
   "outputs": [],
   "source": [
    "class Node: #this the node structure that will hold our individual data points from each game. We will read games into nodes from the csv file later.\n",
    "    def __init__(self, game_number, date_played, location, opponent, WorL, team_score, opponent_score):\n",
    "        self.game_number = game_number\n",
    "        self.date_played = date_played\n",
    "        self.location = location\n",
    "        self.opponent = opponent\n",
    "        self.WorL = WorL\n",
    "        self.team_score = team_score\n",
    "        self.opponent_score = opponent_score\n",
    "        self.score_difference = team_score - opponent_score\n",
    "        #below are helper attributes for the data structures used to store the nodes.\n",
    "        self.left = None\n",
    "        self.right = None\n",
    "        \n",
    "    def __str__(self):\n",
    "        return f'{self.game_number}, {self.date_played}, {self.location}, {self.opponent}, {self.WorL}, {self.team_score}, {self.opponent_score}, {self.score_difference}'"
   ]
  },
  {
   "cell_type": "markdown",
   "metadata": {},
   "source": [
    "Binary Search Tree (BST):\n",
    "Below is the code for the binary search tree. Essentially we start with a data point as our \"root\" or starting point. Then when inserting data we insert points \"under\" the node as a \"child\" to the left or right based on whether a specified value is greater than or less than the roots specified value. Because a node can only have two children if a node has 2 children already we just move \"down\" a node and insert there instead. This means that a binary search tree will gain height as we add nodes. \n",
    "\n",
    "Important notes, because of the left and right rules the maximum and minimum values will always be the left and rightmost nodes of the tree meaning the time spent to find the minimum and maximum values is directly related to the vertical height of our tree.\n",
    "\n",
    "Searching for nodes is different however because we have to individually check the value of each node assisted by the fact that we can figure out where to search more efficenetly based on whether the value of the current examined node is greater than or less than our searched for value if that is the information we construct our tree around, otherwise it is random as wee search the tree whether we find it or not."
   ]
  },
  {
   "cell_type": "code",
   "execution_count": null,
   "metadata": {},
   "outputs": [],
   "source": [
    "#Binary Search Tree \n",
    "class BST:\n",
    "    def __init__(self):\n",
    "        self.root = None\n",
    "    \n",
    "    def insert(self, node):\n",
    "        \"This function inserts a node using the _insert helper function.\"\n",
    "        if self.root is None: #if there is no root then create one.\n",
    "            self.root = node\n",
    "        else: #if there is a root use the helper function to insert the node to the right place.\n",
    "            self._insert(self.root, node)\n",
    "            \n",
    "    def _insert(self, current_node, new_node):\n",
    "        \"\"\"This helper function takes a current node and a node to be placed. It then checks the values of the nodes to decide whether the new node\n",
    "        should be placed to the left or right of the current node based on whether it is smaller or larger than the current node.\"\"\"\n",
    "        if new_node.score_difference < current_node.score_difference:\n",
    "            if current_node.left is None: #does the node have a child to the left?\n",
    "                current_node.left = new_node #no: Insert to the left\n",
    "            else:\n",
    "                self._insert(current_node.left, new_node) #yes: then check again with the left child as the current node.\n",
    "        else:\n",
    "            if current_node.right is None: #does the node have a child to the right?\n",
    "                current_node.right = new_node #no\n",
    "            else:\n",
    "                self._insert(current_node.right, new_node) #yes\n",
    "    \n",
    "    def get_min(self):\n",
    "        \"\"\"This function traverses the tree to find the left most node which is the minimum value\n",
    "        @return the minimum value node.\"\"\"\n",
    "        current_node = self.root\n",
    "        while current_node.left != None:\n",
    "            current_node = current_node.left\n",
    "        return current_node\n",
    "    \n",
    "    def get_max(self):\n",
    "        \"\"\"This function traverses the tree to find the right most node which is the maximum value\n",
    "        @return the maximum value node\"\"\"\n",
    "        current_node = self.root\n",
    "        while current_node.right != None:\n",
    "            current_node = current_node.right\n",
    "        return current_node\n",
    "    \n",
    "    def height(self):\n",
    "        \"\"\"This function returns the height of a the BST using a th _height helper function.\n",
    "        @return the height of the BST.\"\"\"\n",
    "        return self._height(self.root) #call helper function with the root node as the starting node.\n",
    "\n",
    "    def _height(self, starting_node):\n",
    "        \"\"\"This function takes a starting and follows the left and right child nodes down to find the distance from the starting node to the furthest node.\n",
    "        @return the distance between the starting node and the furthest child node.\"\"\"\n",
    "        if starting_node is None: #no starting node\n",
    "            return -1\n",
    "        left_height = self._height(starting_node.left) #check height going to left\n",
    "        right_height = self._height(starting_node.right) #check height going to right\n",
    "        return 1 + max(left_height, right_height) #return which ever heeght is greater, left or right + 1 to account for the currrent node.\n",
    "            \n",
    "    def search(self, value):\n",
    "        \"\"\"This function searches for a node with a specific value in the BST using the _search helper function.\n",
    "        @param, the value to be searched for in the BST.\n",
    "        @return the node with the value if it exists, otherwise None.\"\"\"\n",
    "        return self._search(self.root, value)\n",
    "\n",
    "    def _search(self, node, value):\n",
    "        if node is None:\n",
    "            return None  #Value not found\n",
    "        elif value < node.score_difference:\n",
    "            return self._search(node.left, value)  #Value might be in the left subtree\n",
    "        elif value > node.score_difference:\n",
    "            return self._search(node.right, value)  #Value might be in the right subtree\n",
    "        else:\n",
    "            return node  #Value found\n",
    "        \n",
    "    def in_order_traversal(self):\n",
    "        \"\"\"This function performs an in order traveral of the BST sing the _in_order_traversal helper function. This will sort the data in order and return it.\"\"\"\n",
    "        return self._in_order_traversal(self.root, [])\n",
    "    \n",
    "    def _in_order_traversal(self, node, sorted_data):\n",
    "        \"\"\"This function performs an in order traversal of the BST and appends the data to a list.\"\"\"\n",
    "        if node is not None:\n",
    "            self._in_order_traversal(node.left, sorted_data)\n",
    "            sorted_data.append(node.data)\n",
    "            self._in_order_traversal(node.right, sorted_data)\n",
    "        return sorted_data\n",
    "            \n",
    "        \n"
   ]
  },
  {
   "cell_type": "markdown",
   "metadata": {},
   "source": [
    "Heap:\n",
    "The code below defines the heap data structure, specifically the Max Heap structure. Like the binary search tree, it is based on a tree like structure with a root or top node that has child nodes under it. In this case, instead of choosing an arbitrary node as our starting value we have the largest value as our root (In a Min Tree we would choose the smallest value.) Afterwards, the nodes are placed under making sure that child nodes are always lesser than or equal to the value of the parent nodes. \n",
    "\n",
    "This structure leads to more uncertain traversal of the tree, as there are no left right rules for child nodes meaning the data is assigned in whichever order its read in. The maximum or minimum value is easy to acceess depending on the type (min or max) of the heap because it will be the root node, however only one will be easily accessable while the other will be one of the nodes on the bottom most layer of the tree.\n",
    "\n",
    "Compared to the BST, insertion and removal of data is significantly faster as the trade off for losing access to easier min and max finding.\n"
   ]
  },
  {
   "cell_type": "code",
   "execution_count": null,
   "metadata": {},
   "outputs": [],
   "source": [
    "#Code for Heap\n",
    "class Heap:\n",
    "    def __iniit(self):\n",
    "        self.heap = []\n",
    "        \n",
    "    def build_heap(self, data):\n",
    "        \"\"\"This function takes a set of nodes and build it into a heap using the heapify function.\n",
    "        @param data, the data to be built into a heap.\"\"\"\n",
    "        self.heap = data[:]\n",
    "        for i in range(len(self.heap)// 2, -1, -1):\n",
    "            self.heapify(i)\n",
    "            \n",
    "    def heapify(self, i):\n",
    "        left = 2 * i + 1\n",
    "        right = 2 * i + 2\n",
    "        largest = i\n",
    "        if left < len(self.heap) and self.heap[left].score_difference > self.heap[largest].score_difference:\n",
    "            largest = left\n",
    "        if right < len(self.heap) and self.heap[right].score_difference > self.heap[largest].score_difference:\n",
    "            largest = right\n",
    "        if largest != i:\n",
    "            self.heap[i], self.heap[largest] = self.heap[largest], self.heap[i]\n",
    "            self.heapify(largest)\n",
    "            \n",
    "    def search(self, value):\n",
    "        \"\"\"This function searchees for a node with a specific value in the heap, it will return the node if found or None if not found.\n",
    "        @param value, the value to bee search for in the heap\n",
    "        @return the nodee with the value or None.\"\"\"\n",
    "        \n",
    "    def get_max(self):\n",
    "        \"\"\"This function return the root node of the heap which is the maximum value.\"\"\"\n",
    "        return self.heap[0]\n",
    "        "
   ]
  },
  {
   "cell_type": "markdown",
   "metadata": {},
   "source": [
    "Now that we have our structures defined, lets load our data from the .csv into the structures and perform our analysis by searching for the min and max score values as well a a game based on a random trait."
   ]
  },
  {
   "cell_type": "code",
   "execution_count": null,
   "metadata": {},
   "outputs": [],
   "source": [
    "#load data from csv file into nodes and create our Binary Search Tree.\n",
    "with open(\"MensBasketBallStats.csv\", \"r\") as file:\n",
    "    node_list = []\n",
    "    for line in file: #Go line by line through the file and create a node for each line.\n",
    "        data = line.split(\",\")\n",
    "        node = Node(int(data[0]), data[1], data[2], data[3], data[4], int(data[5]),int(data[6]))\n",
    "        node_list.append(node) #add nodes to the node list.\n",
    "\n",
    "\n",
    "#Create a BST and insert the nodes\n",
    "bst = BST()\n",
    "for node in node_list:\n",
    "    bst.insert(node)\n",
    "    \n",
    "#Create a heap and build it with the nodes\n",
    "heap = Heap()\n",
    "heap.build_heap(node_list)\n"
   ]
  },
  {
   "cell_type": "markdown",
   "metadata": {},
   "source": [
    "We now have a BST and a Heap built and populated with the data from our nodes. Lets extract our min and max values, search for some games, and print the games in order of score difference using our different data structures."
   ]
  },
  {
   "cell_type": "code",
   "execution_count": null,
   "metadata": {},
   "outputs": [],
   "source": [
    "#Operations of BST\n",
    "\n",
    "#find and print max and min\n",
    "minimum_node = bst.get_min()\n",
    "maximum_node = bst.get_max()\n",
    "print(f\"Highest Score Difference Game: {maximum_node}\")\n",
    "print(f\"Lowest Score Difference Game: {minimum_node}\")\n",
    "\n",
    "#search for score differences\n",
    "search1 = bst.search(10)\n",
    "search2 = bst.search(8)\n",
    "search3 = bst.search(17)\n",
    "print(f\"Searched Games:\\n10 point difference: {search1}\\n8 point difference: {search2}\\n17 point difference: {search3}\")\n",
    "\n",
    "#sort list\n",
    "sorted_data = bst.in_order_traversal()\n",
    "print(\"Sorted Data:\")\n",
    "for node in sorted_data:\n",
    "    print(node)\n",
    "\n"
   ]
  },
  {
   "cell_type": "code",
   "execution_count": null,
   "metadata": {},
   "outputs": [],
   "source": [
    "#Operations of Heap\n",
    "\n",
    "#Find and print max and min\n",
    "maximum_node = heap.get_max()\n",
    "print(f\"Highest Score Difference Game: {maximum_node}\")\n",
    "\n",
    "#search for score differences\n",
    "\n",
    "#sort list."
   ]
  },
  {
   "cell_type": "markdown",
   "metadata": {},
   "source": [
    "Operation Review:\n",
    "\n",
    "Comparing finding the maximum and minimum value games we encounter our first limitation. Using the Binary Search Tree, it is a pretty quick operation with a big o notation of O(h) where h is the height of the tree meaning that because we just follow the tree down to the left or right the time we take is dependant on the number of nodes we traverse vertically. Using the Heap, it is much quicker with a big o notation of O(1) because the max or min is always the top most node. However the limitation is that depending on the type of heap you can only find the max or min in O(1) while the other is much slower because you have to search the entire tree for the other value.\n",
    "\n",
    "When searching values, there are more differences, with the heap, the time complexity is directly related to the number of elements in the heap, O(n) where n is the number of elements. The BST however is slightly more complicated. Because my BST code doesn't ensure balance (the height of left and right subtrees only differ by 1 when inserting values) my tree can end skewed. This changees the time complxity from O(log(n)) for a balanced tree to O(n) which matches the speed of the heap. So for the searchng of values both structures perform exactly the same athough the BST could be optimized later to make it faster for larger values of n. Changing my BST to a balanced tree likely wouldn't garner massive results right away because I only have 36 data points, but if expanded to include more points, the O(log(n)) vs O(n) makes a huge difference.\n",
    "\n",
    "Finally, the sorting of the lists. "
   ]
  }
 ],
 "metadata": {
  "kernelspec": {
   "display_name": "Python 3",
   "language": "python",
   "name": "python3"
  },
  "language_info": {
   "name": "python",
   "version": "3.11.7"
  }
 },
 "nbformat": 4,
 "nbformat_minor": 2
}
